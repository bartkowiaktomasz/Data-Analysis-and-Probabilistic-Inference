{
 "cells": [
  {
   "cell_type": "markdown",
   "metadata": {},
   "source": [
    "# Tutorial 4: Model Accuracy"
   ]
  },
  {
   "cell_type": "markdown",
   "metadata": {},
   "source": [
    "#### data set over four binary variables, A,B, C and D, consists of the following eight data points:\n",
    "![Data set](images/tut4_dataSet.png)\n",
    "#### A Bayesian network is proposed to represent the data set.\n",
    "![Network](images/tut4_network.png)\n",
    "#### The prior probabilities and the link matrices are calculated from the data itself."
   ]
  },
  {
   "cell_type": "markdown",
   "metadata": {},
   "source": [
    "#### `1.` Compute the MDL score for the above network and data set."
   ]
  },
  {
   "cell_type": "code",
   "execution_count": 8,
   "metadata": {},
   "outputs": [
    {
     "name": "stdout",
     "output_type": "stream",
     "text": [
      "35.9099095342\n"
     ]
    }
   ],
   "source": [
    "from numpy import *\n",
    "P_A = array([[1/4, 3/4]])\n",
    "P_B_given_A = array([[1/2, 5/6],[1/2, 1/6]])\n",
    "P_C_given_A = array([[1, 2/3],[0, 1/3]])\n",
    "P_D_given_B = array([[2/3, 1/2],[1/3, 1/2]])\n",
    "\n",
    "# Model size:\n",
    "numberOfParameters = 7\n",
    "numberOfDataPoints = 8\n",
    "modelSize = numberOfParameters * log2(numberOfDataPoints)/2\n",
    "\n",
    "# Model accuracy:\n",
    "modelAccuracy = log2(1/4 * 1/2 * 1 * 2/3) + 2 * log2(3/4 * 5/6 * 2/3 * 1/3) + log2(3/4 * 5/6 * 1/3 * 2/3) + \\\n",
    "log2(3/4 * 5/6 * 2/3 * 2/3) + log2(1/4 * 1/2 * 1 * 1/2) + log2(3/4 * 1/6 * 2/3 * 1/2) + log2(3/4 * 5/6 * 1/3 * 2/3)\n",
    "\n",
    "# MDL\n",
    "MDL = modelSize - modelAccuracy\n",
    "print(MDL)"
   ]
  },
  {
   "cell_type": "markdown",
   "metadata": {},
   "source": [
    "#### `2.`  If the data set were duplicated exactly (so it contains 16 points) what would be the new value of the MDL score. (PS Dont try to calculate it directly)."
   ]
  },
  {
   "cell_type": "code",
   "execution_count": 9,
   "metadata": {},
   "outputs": [
    {
     "name": "stdout",
     "output_type": "stream",
     "text": [
      "64.8198190684\n"
     ]
    }
   ],
   "source": [
    "numberOfParameters = 7\n",
    "numberOfDataPoints = 16\n",
    "modelSize = numberOfParameters * log2(numberOfDataPoints)/2\n",
    "\n",
    "# New model accuracy:\n",
    "modelAccuracy *= 2\n",
    "MDL = modelSize - modelAccuracy\n",
    "print(MDL)"
   ]
  },
  {
   "cell_type": "markdown",
   "metadata": {},
   "source": [
    "#### `3.` A different network is proposed with the arc between B and D deleted from the above network. Find the MDL score for this network and determine which of the two is the better network."
   ]
  },
  {
   "cell_type": "code",
   "execution_count": 11,
   "metadata": {},
   "outputs": [
    {
     "name": "stdout",
     "output_type": "stream",
     "text": [
      "34.5356065533\n",
      "That network has the smallest Minimum Description Length score\n"
     ]
    }
   ],
   "source": [
    "# Model size:\n",
    "numberOfParameters = 6\n",
    "numberOfDataPoints = 8\n",
    "modelSize = numberOfParameters * log2(numberOfDataPoints)/2\n",
    "\n",
    "# Model accuracy:\n",
    "P_D = array([5/8, 3/8])\n",
    "modelAccuracy = log2(1/4 * 1/2 * 1 * 5/8) + 2 * log2(3/4 * 5/6 * 2/3 * 3/8) + log2(3/4 * 5/6 * 1/3 * 5/8) + \\\n",
    "log2(3/4 * 5/6 * 2/3 * 5/8) + log2(1/4 * 1/2 * 1 * 5/8) + log2(3/4 * 1/6 * 2/3 * 3/8) + log2(3/4 * 5/6 * 1/3 * 5/8)\n",
    "\n",
    "# New model accuracy:\n",
    "MDL = modelSize - modelAccuracy\n",
    "print(MDL)\n",
    "print(\"That network has the smallest Minimum Description Length score\")"
   ]
  },
  {
   "cell_type": "markdown",
   "metadata": {},
   "source": [
    "#### `4.` For a four binary variable problem like this there are only sixteen possible different data points. Calculate the probability distribution over these sixteen points given:\n",
    "#### a) The data set\n",
    "#### b) The Bayesian network defined above"
   ]
  },
  {
   "cell_type": "markdown",
   "metadata": {},
   "source": [
    "![Distribution](images/tut4_probability_distribution.png)"
   ]
  },
  {
   "cell_type": "markdown",
   "metadata": {},
   "source": [
    "#### `5.` Discuss with your friends or the tutors the reasons why these two are different, and why MDL is used as a measure of accuracy rather than calculating a distance (say the Euclidian distance) between the data probability distribution and the network probability distribution\n",
    "Inaccuracy - the network does not fit the data well enough.\n",
    "Why not calculate distance - the method does not scale since for binary variable problem for 4 nodes there are $2^4$ possibilities so its computationaly infeasible."
   ]
  }
 ],
 "metadata": {
  "kernelspec": {
   "display_name": "Python 3",
   "language": "python",
   "name": "python3"
  },
  "language_info": {
   "codemirror_mode": {
    "name": "ipython",
    "version": 3
   },
   "file_extension": ".py",
   "mimetype": "text/x-python",
   "name": "python",
   "nbconvert_exporter": "python",
   "pygments_lexer": "ipython3",
   "version": "3.6.3"
  }
 },
 "nbformat": 4,
 "nbformat_minor": 2
}
