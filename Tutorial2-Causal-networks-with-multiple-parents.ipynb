{
 "cells": [
  {
   "cell_type": "markdown",
   "metadata": {},
   "source": [
    "# Tutorial 2: Causal networks with multiple parents"
   ]
  },
  {
   "cell_type": "code",
   "execution_count": 1,
   "metadata": {
    "collapsed": true
   },
   "outputs": [],
   "source": [
    "import numpy as np\n",
    "# Link matrices\n",
    "P_DE = np.array([[0.4,0.33,0.29],[0.4, 0.33,0.14],[0.2,0.34,0.14],[0,0.33,0.43]])\n",
    "P_SE = np.array([[0,0.33,0.14],[0.6,0,0.14],[0.4,0.34,0],[0,0.33,0.14],[0,0,0.14],[0,0,0.14],[0,0,0.28]])\n",
    "P_FC = np.array([[0,0.3],[0.125,0],[0.125,0.14],[0.25,0.14],[0.125,0],[0.125,0],[0,0.14],[0.125,0.14],[0,0.14],[0.125,0]])\n",
    "P_EC = np.array([[0.5,0.14],[0.25,0.14],[0.25,0.72]])"
   ]
  },
  {
   "cell_type": "markdown",
   "metadata": {},
   "source": [
    "#### `1.` Tuberculosis and lung cancer can cause shortness of breath (dyspnea) with equal likelihood. A positive\n",
    "#### chest XRay is also equally likely given tuberculosis or lung cancer. Bronchitis is another cause of dyspnea. A recent visit to Asia increases the likelihood of tuberculosis, while smoking is a possible cause of both lung cancer and bronchitis. (From Neopolitan p183)\n",
    "#### (a) Construct a Bayesian Network to model the causes and effects described in this scenario. Note that this will not be a singly connected network.\n",
    "#### (b) Since the resulting network is not singly connected, propagation may not terminate in all cases. Identify which single node when instantiated will ensure that probability propagation will terminate.\n",
    "Propagation may not terminate if there is a loop - the network is not singly connected"
   ]
  },
  {
   "cell_type": "markdown",
   "metadata": {},
   "source": [
    "#### `2.` Returning to the network introduced in tutorial 1, with the given conditional probability distributions (link matrices):\n",
    "#### a) Given that C is instantiated and found to be in state $c_2$, what $\\pi$ evidence will be propagated to node $E$?"
   ]
  },
  {
   "cell_type": "code",
   "execution_count": 2,
   "metadata": {},
   "outputs": [
    {
     "name": "stdout",
     "output_type": "stream",
     "text": [
      "[ 0.14  0.14  0.72]\n"
     ]
    }
   ],
   "source": [
    "lambda_C = np.array([0,1])\n",
    "pi_E = P_EC.dot(lambda_C)\n",
    "print(pi_E)"
   ]
  },
  {
   "cell_type": "markdown",
   "metadata": {},
   "source": [
    "#### b) Given that $C$ is not instantiated but has a prior probability distribution: $[P(c_1) = 0.6, P(c_2) = 0.4]$ and $F$ is instantiated and found to be in state $f_4$, what $\\pi$ evidence will be propagated to node $E$?"
   ]
  },
  {
   "cell_type": "code",
   "execution_count": 3,
   "metadata": {},
   "outputs": [
    {
     "name": "stdout",
     "output_type": "stream",
     "text": [
      "[ 0.40213592  0.22009709  0.37776699]\n"
     ]
    }
   ],
   "source": [
    "# Given prior probability of C\n",
    "prior_probability_C = np.array([0.6,0.4])\n",
    "# Given instantiation of F\n",
    "lambda_F = np.array([0,0,0,1,0,0,0,0,0,0])\n",
    "# lambda evidence from F to C\n",
    "lambda_F_C = lambda_F.dot(P_FC)\n",
    "# All evidence for C excluding anything from E\n",
    "pi_E_C = prior_probability_C*lambda_F_C\n",
    "# Evidence for E\n",
    "pi_E = P_EC.dot(pi_E_C)\n",
    "# Normalising (to check the correctness of the answer)\n",
    "pi_E /= sum(pi_E)\n",
    "print(pi_E)"
   ]
  },
  {
   "cell_type": "markdown",
   "metadata": {},
   "source": [
    "#### `3.` The network is now changed to include the W node with two states $w_1$ meaning the picture shows an Owl, $w_2$ the picture does not show an owl. The same data base of pictures is used, and the state of $w_2$ is determined for each. Thus only the link matrix between $E$ and $W$ and C changes. Calculate this matrix. (For the case where you have no data assume an equi-probable distribution.)"
   ]
  },
  {
   "cell_type": "code",
   "execution_count": 4,
   "metadata": {
    "collapsed": true
   },
   "outputs": [],
   "source": [
    "P_E_given_CW = np.array([[0.33,0.5,0.33,0],[0.33,0.25,0.33,0],[0.33,0.25,0.33,1]])"
   ]
  },
  {
   "cell_type": "markdown",
   "metadata": {},
   "source": [
    "#### `4.` Assuming that the $\\lambda$  evidence for $E$ from nodes $S$ and $D$ is $\\lambda(e_1) = 0.5$, $\\lambda(e_2) = 0.3$, $\\lambda(e_3) = 0.2$ and that the state of $F$ and $C$ are as defined in question 2b above, and that the $W$ node is instantiated and is in state $w_2$, calculate the posterior probability distribution of $E$ and $C$."
   ]
  },
  {
   "cell_type": "code",
   "execution_count": 8,
   "metadata": {},
   "outputs": [
    {
     "name": "stdout",
     "output_type": "stream",
     "text": [
      "Posterior E:  [ 0.55596738  0.16679021  0.2772424 ]\n"
     ]
    }
   ],
   "source": [
    "### Posterior probability of E\n",
    "# W is instantiated at w2\n",
    "pi_E_W = np.array([0,1])\n",
    "# Pi message from C to E (excluding E) from 2b: pi_E_C\n",
    "# Normalise\n",
    "pi_E_C /= sum(pi_E_C)\n",
    "# Joint evidece pi_E_C&W[0]\n",
    "pi_E_C_and_W = np.array([pi_E_C[0]*pi_E_W[0], pi_E_C[0]*pi_E_W[1], pi_E_C[1]*pi_E_W[0], pi_E_C[1]*pi_E_W[1]])\n",
    "# Evidence for E\n",
    "pi_E = P_E_given_CW.dot(pi_E_C_and_W)\n",
    "\n",
    "# Lambda evidence for E from S and D (given)\n",
    "lambda_E = np.array([0.5,0.3,0.2])\n",
    "# Posterior - multiply pi by lambda and normalise\n",
    "posterior_E = lambda_E * pi_E\n",
    "posterior_E /= sum(posterior_E)\n",
    "print(\"Posterior E: \", posterior_E)"
   ]
  },
  {
   "cell_type": "code",
   "execution_count": 35,
   "metadata": {},
   "outputs": [
    {
     "name": "stdout",
     "output_type": "stream",
     "text": [
      "π_E(C):  [ 0.72815534  0.27184466]\n",
      "Posterior C:  [ 0.83395107  0.16604893]\n"
     ]
    }
   ],
   "source": [
    "### Posterior probability of C\n",
    "# Given pi message sent from C to E - excluding E (this includes lambda message from F and a prior probability)\n",
    "print(\"π_E(C): \", pi_E_C)\n",
    "\n",
    "# Lambda message from E to C\n",
    "# Conditional probability matrix P_EC build using given evidence for W\n",
    "P_EC1 = P_E_given_CW[:,1]\n",
    "P_EC2 = P_E_given_CW[:,3]\n",
    "\n",
    "# Reshape to column\n",
    "P_EC1 = P_EC1.reshape(3,1)\n",
    "P_EC2 = P_EC2.reshape(3,1)\n",
    "\n",
    "# Stack two columns together\n",
    "P_EC = np.hstack((P_EC1, P_EC2))\n",
    "lambda_E_C = lambda_E.dot(P_EC)\n",
    "\n",
    "# Calculate posterior of C\n",
    "posterior_C = pi_E_C * lambda_E_C \n",
    "print(\"Posterior C: \", posterior_C/sum(posterior_C))"
   ]
  }
 ],
 "metadata": {
  "kernelspec": {
   "display_name": "Python 3",
   "language": "python",
   "name": "python3"
  },
  "language_info": {
   "codemirror_mode": {
    "name": "ipython",
    "version": 3
   },
   "file_extension": ".py",
   "mimetype": "text/x-python",
   "name": "python",
   "nbconvert_exporter": "python",
   "pygments_lexer": "ipython3",
   "version": "3.6.3"
  }
 },
 "nbformat": 4,
 "nbformat_minor": 2
}
