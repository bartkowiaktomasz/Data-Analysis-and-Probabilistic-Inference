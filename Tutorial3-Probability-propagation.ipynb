{
 "cells": [
  {
   "cell_type": "markdown",
   "metadata": {},
   "source": [
    "# Tutorial 3: Probability propagation"
   ]
  },
  {
   "cell_type": "markdown",
   "metadata": {},
   "source": [
    "#### `1.`  In tutorial no 3 we obtained the following Bayesian Network to model dyspnea.\n",
    "![Dyspnea](images/dyspnea_network.png)\n",
    "#### a) The network is intialised with prior probabilities allocated to $A$ and $S$ based on data about the local population. What $\\lambda$ and $π$ messages will be sent during this initialisation?"
   ]
  },
  {
   "cell_type": "markdown",
   "metadata": {},
   "source": [
    "- $\\pi_T(A)$, $\\pi_L(S)$, $\\pi_B(S)$\n",
    "- $T, L, B$ recalculate their posterior probabilities\n",
    "- $\\pi_X(T)$, $\\pi_D(T)$, $\\pi_X(L)$, $\\pi_D(L)$, $\\pi_D(B)$\n",
    "- $X, B$ recalculate their posterior probabilities"
   ]
  },
  {
   "cell_type": "markdown",
   "metadata": {},
   "source": [
    "#### b) A patient arrives, and the only fact that is known about him is that he is a smoker. Thus the node $S$ only is instantiated. What $\\lambda$ and $\\pi$ messages will be sent following the instantiation of $S$ ?"
   ]
  },
  {
   "cell_type": "markdown",
   "metadata": {},
   "source": [
    "- $\\pi_L(S)$, $\\pi_B(S)$\n",
    "- $L, B$ recalculate their posterior probabilities\n",
    "- $\\pi_X(L)$, $\\pi_D(L)$, $\\pi_D(B)$\n",
    "- $X, D$ recalculate their posterior probabilities"
   ]
  },
  {
   "cell_type": "markdown",
   "metadata": {},
   "source": [
    "#### c) The patient is given an XRay and it is found to be positive.  What $\\lambda$ and $\\pi$ messages will be sent following the instantiaion of $X$ ?"
   ]
  },
  {
   "cell_type": "markdown",
   "metadata": {},
   "source": [
    "- $\\lambda_X(T)$, $\\lambda_X(L)$\n",
    "- $T, L$ recalculate their posterior probabilities\n",
    "- $\\lambda_T(A)$, $\\lambda_L(S)$ (ignored since S is already instantiated)\n",
    "- $\\pi_D(T)$, $\\pi_D(L)$,\n",
    "- $A, D$ recalculate their posterior probabilities"
   ]
  },
  {
   "cell_type": "markdown",
   "metadata": {},
   "source": [
    "#### d) The patient is now examined further and found to suffer from dyspnea.  What would happen if we try to propagate the evidence under these circumstances?"
   ]
  },
  {
   "cell_type": "markdown",
   "metadata": {},
   "source": [
    "Calculations do not terminate since a loop is created: $D - T - X - L - D$"
   ]
  },
  {
   "cell_type": "markdown",
   "metadata": {},
   "source": [
    "#### `2.` As mentioned in the solution to tutorial 2, Neopolitan has a neat solution to the same causal network which is to introduce a new node standing for Lung Cancer or Tuberculosis.\n",
    "![Dyspnea](images/dyspnea_network_metropolitan.png)\n",
    "#### What would you expect the link matrix joining $T$ and $L$ with $LT$ to be?\n",
    "Index 1 means the presence of given variable, 2 means absence."
   ]
  },
  {
   "cell_type": "markdown",
   "metadata": {},
   "source": [
    "\\begin{equation*}\n",
    "P(LT|T\\&L) = \\begin{pmatrix}\n",
    "P(LT_1|T_1\\&L_1) & P(LT_1|T_1\\&L_2) & P(LT_1|T_2\\&L_1) & P(LT_1|T_2\\&L_2)\\\\\n",
    "P(LT_2|T_1\\&L_1) & P(LT_2|T_1\\&L_2) & P(LT_2|T_2\\&L_1) & P(LT_2|T_2\\&L_2)\n",
    "\\end{pmatrix}\n",
    "= \n",
    "\\begin{pmatrix}\n",
    "1 & 1 & 1 & 0\\\\ \n",
    "0 & 0 & 0 & 1\n",
    "\\end{pmatrix}\n",
    "\\end{equation*}"
   ]
  },
  {
   "cell_type": "markdown",
   "metadata": {},
   "source": [
    "#### `3.` Given the net of question 2, and assuming the node $LT$ contains the following information:\n",
    "$\\lambda_X(LT) = (0.3,0.7) \\\\\n",
    "\\lambda_D(LT) = (1,1) \\\\\n",
    "\\pi_{LT}(T) = (0.4,0.6) \\\\\n",
    "\\pi_{LT}(L) = (0.5,0.5)$\n",
    "#### What is the posterior probabilitiy distribution of $LT$? The node $T$ is suddenly instantiated to $T_2$ (tuberculosis is not present) what messages are sent from $LT$ (assuming that the conditional probability matrix is as given in question 2)."
   ]
  },
  {
   "cell_type": "code",
   "execution_count": 30,
   "metadata": {},
   "outputs": [
    {
     "name": "stdout",
     "output_type": "stream",
     "text": [
      "Posterior of LT:  [ 0.5  0.5]\n"
     ]
    }
   ],
   "source": [
    "from numpy import *\n",
    "\n",
    "P_LT_link_matrix = array([[1,1,1,0],[0,0,0,1]])\n",
    "\n",
    "lambda_X_LT = array([0.3,0.7])\n",
    "lambda_D_LT = array([1,1])\n",
    "pi_LT_T = array([[0.4,0.6]])\n",
    "pi_LT_L = array([[0.5,0.5]])\n",
    "\n",
    "P_LT_joint = (transpose(pi_LT_T)).dot(pi_LT_L)\n",
    "P_LT_joint_column_vector = transpose(array([hstack((P_LT_joint[0], P_LT_joint[1]))]))\n",
    "\n",
    "pi_evidence_LT = P_LT_link_matrix.dot(P_LT_joint_column_vector)\n",
    "posterior_LT = transpose(pi_evidence_LT)[0] * lambda_D_LT * lambda_X_LT\n",
    "# Normalise\n",
    "posterior_LT /= sum(posterior_LT)\n",
    "print(\"Posterior of LT: \", posterior_LT)"
   ]
  },
  {
   "cell_type": "markdown",
   "metadata": {},
   "source": [
    "If $T$ is instantiated to $T_2$:"
   ]
  },
  {
   "cell_type": "code",
   "execution_count": 34,
   "metadata": {},
   "outputs": [
    {
     "name": "stdout",
     "output_type": "stream",
     "text": [
      "Posterior of LT:  [ 0.3  0.7]\n"
     ]
    }
   ],
   "source": [
    "# Link matrix does not change\n",
    "pi_LT_T = array([[0,1]])\n",
    "\n",
    "P_LT_joint = (transpose(pi_LT_T)).dot(pi_LT_L)\n",
    "P_LT_joint_column_vector = transpose(array([hstack((P_LT_joint[0], P_LT_joint[1]))]))\n",
    "\n",
    "pi_evidence_LT = P_LT_link_matrix.dot(P_LT_joint_column_vector)\n",
    "\n",
    "posterior_LT = transpose(pi_evidence_LT)[0] * lambda_D_LT * lambda_X_LT\n",
    "# Normalise\n",
    "posterior_LT /= sum(posterior_LT)\n",
    "print(\"Posterior of LT: \", posterior_LT)"
   ]
  },
  {
   "cell_type": "code",
   "execution_count": 50,
   "metadata": {},
   "outputs": [
    {
     "name": "stdout",
     "output_type": "stream",
     "text": [
      "Pi message from LT to X:  [ 1.  1.]\n",
      "Pi message from LT to D:  [ 0.3  0.7]\n",
      "Lambda message from LT to L:  [ 0.3  0.7]\n"
     ]
    }
   ],
   "source": [
    "pi_X_LT = posterior_LT/lambda_X_LT\n",
    "pi_D_LT = posterior_LT/lambda_D_LT\n",
    "lambda_LT = lambda_X_LT * lambda_D_LT\n",
    "\n",
    "pi_LT_T = array([0,1])\n",
    "lambda_LT_L1 = pi_LT_T[0] * (P_LT_link_matrix[0][0] * lambda_LT[0] + P_LT_link_matrix[1][0] * lambda_LT[1]) + pi_LT_T[1] * (P_LT_link_matrix[0][2] * lambda_LT[0] + P_LT_link_matrix[1][2] * lambda_LT[1])\n",
    "lambda_LT_L2 = pi_LT_T[0] * (P_LT_link_matrix[0][1] * lambda_LT[0] + P_LT_link_matrix[1][1] * lambda_LT[1]) + pi_LT_T[1] * (P_LT_link_matrix[0][3] * lambda_LT[0] + P_LT_link_matrix[1][3] * lambda_LT[1])\n",
    "lambda_LT_L = array([lambda_LT_L1, lambda_LT_L2])\n",
    "\n",
    "print(\"Pi message from LT to X: \", pi_X_LT)\n",
    "print(\"Pi message from LT to D: \", pi_D_LT) \n",
    "print(\"Lambda message from LT to L: \", lambda_LT_L )"
   ]
  }
 ],
 "metadata": {
  "kernelspec": {
   "display_name": "Python 3",
   "language": "python",
   "name": "python3"
  },
  "language_info": {
   "codemirror_mode": {
    "name": "ipython",
    "version": 3
   },
   "file_extension": ".py",
   "mimetype": "text/x-python",
   "name": "python",
   "nbconvert_exporter": "python",
   "pygments_lexer": "ipython3",
   "version": "3.6.3"
  }
 },
 "nbformat": 4,
 "nbformat_minor": 2
}
